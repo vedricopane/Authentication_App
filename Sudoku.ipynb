{
  "nbformat": 4,
  "nbformat_minor": 0,
  "metadata": {
    "colab": {
      "provenance": [],
      "toc_visible": true,
      "authorship_tag": "ABX9TyOpGXn6G1C8fGPu9+UgJE5E",
      "include_colab_link": true
    },
    "kernelspec": {
      "name": "python3",
      "display_name": "Python 3"
    },
    "language_info": {
      "name": "python"
    }
  },
  "cells": [
    {
      "cell_type": "markdown",
      "metadata": {
        "id": "view-in-github",
        "colab_type": "text"
      },
      "source": [
        "<a href=\"https://colab.research.google.com/github/vedricopane/Authentication_App/blob/main/Sudoku.ipynb\" target=\"_parent\"><img src=\"https://colab.research.google.com/assets/colab-badge.svg\" alt=\"Open In Colab\"/></a>"
      ]
    },
    {
      "cell_type": "markdown",
      "source": [
        "# Sulution 1 :"
      ],
      "metadata": {
        "id": "-QMU_7HVz2Fz"
      }
    },
    {
      "cell_type": "code",
      "execution_count": null,
      "metadata": {
        "colab": {
          "base_uri": "https://localhost:8080/"
        },
        "id": "r4xczBoS3XWi",
        "outputId": "6d08ae97-7f0d-493a-e3f6-e09dd89f3f92"
      },
      "outputs": [
        {
          "output_type": "stream",
          "name": "stdout",
          "text": [
            "[[4 2 0 0 0 3 8 0 5]\n",
            " [0 0 5 6 0 0 0 0 3]\n",
            " [0 0 0 0 0 0 7 9 0]\n",
            " [8 0 0 0 4 0 0 0 0]\n",
            " [3 0 0 0 0 0 1 0 8]\n",
            " [0 0 6 0 9 0 0 0 0]\n",
            " [1 3 0 0 7 0 5 0 0]\n",
            " [0 0 0 0 0 2 0 0 7]\n",
            " [0 0 4 0 0 0 0 0 0]]\n"
          ]
        }
      ],
      "source": [
        "import numpy as np\n",
        "\n",
        "grid = [[4,2,0,0,0,3,8,0,5],\n",
        "        [0,0,5,6,0,0,0,0,3],\n",
        "        [0,0,0,0,0,0,7,9,0],\n",
        "        [8,0,0,0,4,0,0,0,0],\n",
        "        [3,0,0,0,0,0,1,0,8],\n",
        "        [0,0,6,0,9,0,0,0,0],\n",
        "        [1,3,0,0,7,0,5,0,0],\n",
        "        [0,0,0,0,0,2,0,0,7],\n",
        "        [0,0,4,0,0,0,0,0,0]]\n",
        "\n",
        "print(np.matrix(grid))"
      ]
    },
    {
      "cell_type": "code",
      "source": [
        "# pengecekan angka per baris dan kolom.\n",
        "\n",
        "def checkingNumber(row, column, number):\n",
        "  global grid   # memperbolehkan kita untuk menggunakan var grid walaupun kita sedang running function ini.\n",
        "\n",
        "  # apakah nomor tersebut muncul pada baris tertentu? / cek number apakah sudah ada atau tidak pada row.\n",
        "  for i in range(0,9):\n",
        "    if grid[row][i] == number:\n",
        "      return False\n",
        "\n",
        "  # apakah nomor tersebut muncul pada kolom tertentu?\n",
        "  for i in range(0,9):\n",
        "    if grid[i][column] == number:\n",
        "      return False\n",
        "\n",
        "  # apakah nomor tersebut muncul pada sekat kotak tertentu?\n",
        "  # starting poin :\n",
        "  x0 = (column // 3) * 3    # kenapa dibagi 3 karena range sudoku itu 0-9 dan kotak per baris/kolom ada 3.\n",
        "  y0 = (row // 3) * 3\n",
        "\n",
        "  for i in range(0,3):    # setiap kotak ada 3 baris.\n",
        "    for j in range(0,3):  # setiap kotak ada 3 kolom.\n",
        "      if grid[y0+i][x0+i] == number:\n",
        "        return False\n",
        "\n",
        "  return True"
      ],
      "metadata": {
        "id": "07vaMjxJAILQ"
      },
      "execution_count": null,
      "outputs": []
    },
    {
      "cell_type": "code",
      "source": [
        "def solve():\n",
        "  global grid\n",
        "\n",
        "  for row in range(0,9):\n",
        "    for column in range(0,9):\n",
        "      if grid[row][column] == 0:\n",
        "        for number in range(1,10):\n",
        "          if checkingNumber(row, column, number):\n",
        "            grid[row][column] = number\n",
        "            solve()\n",
        "            grid[row][column] = 0\n",
        "\n",
        "        return\n",
        "\n",
        "  print(np.matrix(grid))\n",
        "  input('More solutions : ')\n",
        "\n",
        "solve()"
      ],
      "metadata": {
        "id": "Ek6LaV1fCilp"
      },
      "execution_count": null,
      "outputs": []
    },
    {
      "cell_type": "markdown",
      "source": [
        "## References :"
      ],
      "metadata": {
        "id": "az0MRIP0-uXv"
      }
    },
    {
      "cell_type": "markdown",
      "source": [
        "* https://www.youtube.com/watch?v=PZJ5mjQyxR8"
      ],
      "metadata": {
        "id": "baTzR3t2-zvj"
      }
    },
    {
      "cell_type": "markdown",
      "source": [
        "# Solution 2 :"
      ],
      "metadata": {
        "id": "xc3Rc-2Kz81g"
      }
    },
    {
      "cell_type": "code",
      "execution_count": null,
      "metadata": {
        "colab": {
          "base_uri": "https://localhost:8080/"
        },
        "outputId": "dd8c933e-04f0-4051-a3a7-aabd44f18a86",
        "id": "B_WI9Kd-3tLP"
      },
      "outputs": [
        {
          "output_type": "stream",
          "name": "stdout",
          "text": [
            "[[4 2 0 0 0 3 8 0 5]\n",
            " [0 0 5 6 0 0 0 0 3]\n",
            " [0 0 0 0 0 0 7 9 0]\n",
            " [8 0 0 0 4 0 0 0 0]\n",
            " [3 0 0 0 0 0 1 0 8]\n",
            " [0 0 6 0 9 0 0 0 0]\n",
            " [1 3 0 0 7 0 5 0 0]\n",
            " [0 0 0 0 0 2 0 0 7]\n",
            " [0 0 4 0 0 0 0 0 0]]\n"
          ]
        }
      ],
      "source": [
        "import numpy as np\n",
        "\n",
        "grid = [[4,2,0, 0,0,3, 8,0,5],\n",
        "        [0,0,5, 6,0,0, 0,0,3],\n",
        "        [0,0,0, 0,0,0, 7,9,0],\n",
        "\n",
        "        [8,0,0, 0,4,0, 0,0,0],\n",
        "        [3,0,0, 0,0,0, 1,0,8],\n",
        "        [0,0,6, 0,9,0, 0,0,0],\n",
        "\n",
        "        [1,3,0, 0,7,0, 5,0,0],\n",
        "        [0,0,0, 0,0,2, 0,0,7],\n",
        "        [0,0,4, 0,0,0, 0,0,0]]\n",
        "\n",
        "print(np.matrix(grid))"
      ]
    },
    {
      "cell_type": "code",
      "source": [
        "import sys\n",
        "print(sys.getrecursionlimit())\n",
        "\n",
        "sys.setrecursionlimit(5000)\n",
        "print(sys.getrecursionlimit())"
      ],
      "metadata": {
        "colab": {
          "base_uri": "https://localhost:8080/"
        },
        "id": "6gQsENd9fFt1",
        "outputId": "ab118f49-e7a1-4757-cc56-ca3f33137c8b"
      },
      "execution_count": null,
      "outputs": [
        {
          "output_type": "stream",
          "name": "stdout",
          "text": [
            "1000\n",
            "5000\n"
          ]
        }
      ]
    },
    {
      "cell_type": "code",
      "source": [
        "def find_next_empty(grid):\n",
        "  # mencari next row, col yg belum diisi. --> berisi 0.\n",
        "  # return index row, col. Jika tidak ada yg index/nilai yg kosong akan return none,none.\n",
        "\n",
        "  for r in range(9):      # row\n",
        "    for c in range(9):    # col\n",
        "      if grid[r][c] == 0:\n",
        "        return r, c\n",
        "\n",
        "  return None, None     # None jika tidak terdapat index/nilai yg kosong, berarti tidak ada yg bernilai 0."
      ],
      "metadata": {
        "id": "_MOr5aAC57lG"
      },
      "execution_count": null,
      "outputs": []
    },
    {
      "cell_type": "code",
      "source": [
        "def is_valid(grid, guess, row, col):\n",
        "  # mencari tahu apakah nilai guess valid\n",
        "  # return True\n",
        "\n",
        "  # start with row :\n",
        "  row_vals = grid[row]\n",
        "  if guess in row_vals:     # jika nilai guess ada didalam nilai row, maka return false. Mis, guess=1, sedangkan pada row ada nilai 1, maka false.\n",
        "    return False\n",
        "\n",
        "  # next col :\n",
        "  col_vals = []\n",
        "  for i in range(9):\n",
        "    col_vals.append(grid[i][col])\n",
        "\n",
        "  if guess in col_vals:     # jika nilai guess ada didalam nilai col, maka return false. Mis, guess=1, sedangkan pada col ada nilai 1, maka false.\n",
        "    return False\n",
        "\n",
        "  # next square :\n",
        "  # square karena kotak puzzle nya 3x3.\n",
        "  # Ini penanda start poin pada masing2 puzzle secara row dan col.\n",
        "  row_start = (row // 3) * 3      # mis, index row saat ini 3, berarti square 1, maka (3//3)*3, maka row_start nya dari index row ke 0.\n",
        "  col_start = (col // 3) * 3\n",
        "\n",
        "  for r in range(row_start, row_start+3):     # r adalah row.\n",
        "    for c in range(col_start, col_start+3):   # c adalah col.\n",
        "      if grid[r][c] == guess:\n",
        "        return False\n",
        "\n",
        "  # jika pass, maka return true.\n",
        "  return True\n"
      ],
      "metadata": {
        "id": "gYKs0cyUHK54"
      },
      "execution_count": null,
      "outputs": []
    },
    {
      "cell_type": "code",
      "source": [
        "def solve_sol2(grid):\n",
        "\n",
        "  # Step 1 : pilih secara random/dimanapun pada puzzle yang akan kita tebak(guess).\n",
        "  row, col = find_next_empty(grid)\n",
        "\n",
        "  # Step 1.1 : jika tidak ada tempat yg kosong lagi, maka selesai karena kita akan input nilai yg valid.\n",
        "  if row is None:\n",
        "    return True\n",
        "\n",
        "  # Step 2 : jika masih ada tempat kosong, maka buat tebakan(guess) angka antara 1..9\n",
        "  for guess in range(1,10):     # range(1,10) = 1..9\n",
        "\n",
        "    # Step 3 : cek apakah nilai guess itu valid.\n",
        "    if is_valid(grid, guess, row, col):\n",
        "      # Step 3.1 : Jika valid, maka letakkan nilai guess pada row dan col tsb.\n",
        "      grid[row][col] == guess\n",
        "\n",
        "      # Step 4 : recursive\n",
        "      # Ulangi lagi prosesnya setelah nilai guess valid didapat.\n",
        "      if solve_sol2(grid):\n",
        "        return True\n",
        "\n",
        "    # Step 5 : jika belum solve, maka kita akan backtrack dan mencoba nilai guess yg baru.\n",
        "    grid[row][col] = 0      # reset nilai guess.\n",
        "\n",
        "  # Step 6 : jika tidak ada satupun nilai guess yg valid, maka UNSOLVABLE.\n",
        "  return False"
      ],
      "metadata": {
        "id": "vLWYfYze0Ao_"
      },
      "execution_count": null,
      "outputs": []
    },
    {
      "cell_type": "code",
      "source": [
        "if __name__ == '__main__':\n",
        "  grid = [[4,2,0, 0,0,3, 8,0,5],\n",
        "          [0,0,5, 6,0,0, 0,0,3],\n",
        "          [0,0,0, 0,0,0, 7,9,0],\n",
        "          [8,0,0, 0,4,0, 0,0,0],\n",
        "          [3,0,0, 0,0,0, 1,0,8],\n",
        "          [0,0,6, 0,9,0, 0,0,0],\n",
        "          [1,3,0, 0,7,0, 5,0,0],\n",
        "          [0,0,0, 0,0,2, 0,0,7],\n",
        "          [0,0,4, 0,0,0, 0,0,0]]\n",
        "\n",
        "  print(solve_sol2(grid))\n",
        "  print(grid)"
      ],
      "metadata": {
        "id": "xf0UROjjdMFL"
      },
      "execution_count": null,
      "outputs": []
    },
    {
      "cell_type": "markdown",
      "source": [
        "## References :"
      ],
      "metadata": {
        "id": "l2gObHVA7Zup"
      }
    },
    {
      "cell_type": "markdown",
      "source": [
        "* https://www.youtube.com/watch?v=tvP_FZ-D9Ng\n"
      ],
      "metadata": {
        "id": "nyP8ha_n7Zur"
      }
    },
    {
      "cell_type": "markdown",
      "source": [
        "# Solution 3 :\n",
        "\n",
        "**with backtracking**"
      ],
      "metadata": {
        "id": "VqC-yDbJyNMC"
      }
    },
    {
      "cell_type": "code",
      "source": [
        "grid = [[4,8,0, 0,3,0, 2,0,0],\n",
        "        [0,0,0, 0,0,9, 0,3,8],\n",
        "        [0,1,0, 0,0,0, 0,4,0],\n",
        "\n",
        "        [0,0,3, 9,0,0, 5,0,0],\n",
        "        [9,2,4, 1,0,0, 0,0,7],\n",
        "        [0,0,5, 3,7,4, 0,0,0],\n",
        "\n",
        "        [0,3,8, 0,0,0, 0,0,0],\n",
        "        [0,0,7, 0,0,8, 6,0,0],\n",
        "        [6,0,0, 7,0,0, 0,0,0]]"
      ],
      "metadata": {
        "id": "rWCgUfSeyYT0"
      },
      "execution_count": null,
      "outputs": []
    },
    {
      "cell_type": "code",
      "source": [
        "def find_empty(gr):\n",
        "  for i in range(len(gr)):\n",
        "    for j in range(len(gr[0])):                 # len(gr[0]) ialah length dari masing2 row.\n",
        "      if gr[i][j] == 0:\n",
        "        return (i,j)                            # row, col.\n",
        "\n",
        "  return None"
      ],
      "metadata": {
        "id": "Aj83fNXbCc1P"
      },
      "execution_count": null,
      "outputs": []
    },
    {
      "cell_type": "code",
      "source": [
        "def valid(gr, num, pos):                              # gr = grid, num = angka yg akan diisi, pos = posisi (row, col)\n",
        "  # mencari tahu apakah nilai number valid\n",
        "\n",
        "  # cek row :\n",
        "  for i in range(len(gr[0])):                         # pos = (row, col), pos[0 ]= row, pos[1] = col.\n",
        "    if gr[pos[0]][i] == num and pos[1] != i:          # gr[pos[0]] artinya cek per 1 row & [i] artinya iterasi ke semua kolomnya. Atau cek semua value per row.\n",
        "      return False                                    # pos[1] != i artinya tidak mengcek posisi yg sama.\n",
        "\n",
        "  # cek col :\n",
        "  for i in range(len(gr)):\n",
        "    if gr[i][pos[1]] == num and pos[0] != i:          # pos[0] != i artinya tidak mengcek posisi yg sama.\n",
        "      return False\n",
        "\n",
        "  # cek square 3x3 :\n",
        "  row_start = (pos[0] // 3) * 3                       # mis, index row saat ini 3, berarti square 1, maka (3//3)*3, maka row_start nya dari index row ke 0.\n",
        "  col_start = (pos[1] // 3) * 3\n",
        "\n",
        "  for r in range(row_start, row_start+3):             # r adalah row.\n",
        "    for c in range(col_start, col_start+3):           # c adalah col.\n",
        "      if gr[r][c] == num and (r,c) != pos:            # (r,c) != pos artinya tidak mengcek posisi yg sama.\n",
        "        return False\n",
        "\n",
        "  return True"
      ],
      "metadata": {
        "id": "zD6wDVm0D9F-"
      },
      "execution_count": null,
      "outputs": []
    },
    {
      "cell_type": "code",
      "source": [
        "def solve_sol3(gr):\n",
        "\n",
        "  # jika mau tracing backtracknya, run code dibawah ini.\n",
        "  # print(gr)\n",
        "\n",
        "  find = find_empty(gr)\n",
        "\n",
        "  # jika tidak ditemukan index (row, col), maka solusi didapatkan / return true.\n",
        "  if not find:\n",
        "    return True\n",
        "  else:\n",
        "    # jika ditemukan index (row, col), maka return index (row, col).\n",
        "    row, col = find\n",
        "\n",
        "  # input number\n",
        "  for i in range(1,10):\n",
        "    if valid(gr, i, (row, col)):                # if valid = true\n",
        "      gr[row][col] = i\n",
        "\n",
        "      if solve_sol3(gr):                        # if solve = true\n",
        "        return True\n",
        "\n",
        "    gr[row][col] = 0                          # reset nilai pada grid jadi 0.\n",
        "\n",
        "  return False"
      ],
      "metadata": {
        "id": "woduNvjGLteo"
      },
      "execution_count": null,
      "outputs": []
    },
    {
      "cell_type": "code",
      "source": [
        "def print_grid(gr):                             # gr = grid\n",
        "  for i in range(len(gr)):\n",
        "    if (i % 3 == 0) and i != 0 :\n",
        "      print(\"- - - - - - - - - - - - \")\n",
        "\n",
        "    for j in range(len(gr[0])):                 # len(gr[0]) ialah length dari masing2 row.\n",
        "      # membuat garis vertikal pembatas pada 3x3 square.\n",
        "      if (j % 3 == 0) and j != 0:\n",
        "        print(\" | \", end=\"\")                    # arti end=\"\" ialah untuk stay di line yg sama.\n",
        "\n",
        "      # cek posisi pada akhir grid, lalu backslash/enter ke bawah/next line.\n",
        "      if j == 8:\n",
        "        print(gr[i][j])\n",
        "      else:\n",
        "        print(str(gr[i][j]) + \" \", end=\"\")      # arti end=\"\" ialah untuk stay di line yg sama."
      ],
      "metadata": {
        "id": "yNxVOfyszEup"
      },
      "execution_count": null,
      "outputs": []
    },
    {
      "cell_type": "code",
      "source": [
        "print_grid(grid)"
      ],
      "metadata": {
        "colab": {
          "base_uri": "https://localhost:8080/"
        },
        "id": "WZs4QJERDCKj",
        "outputId": "4e7b5d42-9570-4de8-fce8-41453b554017"
      },
      "execution_count": null,
      "outputs": [
        {
          "output_type": "stream",
          "name": "stdout",
          "text": [
            "4 8 0  | 0 3 0  | 2 0 0\n",
            "0 0 0  | 0 0 9  | 0 3 8\n",
            "0 1 0  | 0 0 0  | 0 4 0\n",
            "- - - - - - - - - - - - \n",
            "0 0 3  | 9 0 0  | 5 0 0\n",
            "9 2 4  | 1 0 0  | 0 0 7\n",
            "0 0 5  | 3 7 4  | 0 0 0\n",
            "- - - - - - - - - - - - \n",
            "0 3 8  | 0 0 0  | 0 0 0\n",
            "0 0 7  | 0 0 8  | 6 0 0\n",
            "6 0 0  | 7 0 0  | 0 0 0\n"
          ]
        }
      ]
    },
    {
      "cell_type": "code",
      "source": [
        "solve_sol3(grid)"
      ],
      "metadata": {
        "colab": {
          "base_uri": "https://localhost:8080/"
        },
        "id": "iSflnhnvCL8n",
        "outputId": "aa4b968f-1e2d-4ef2-9102-14d9c7afdcf3"
      },
      "execution_count": null,
      "outputs": [
        {
          "output_type": "execute_result",
          "data": {
            "text/plain": [
              "True"
            ]
          },
          "metadata": {},
          "execution_count": 55
        }
      ]
    },
    {
      "cell_type": "code",
      "source": [
        "print_grid(grid)"
      ],
      "metadata": {
        "colab": {
          "base_uri": "https://localhost:8080/"
        },
        "id": "KPlSxHFyQ7wy",
        "outputId": "88c07c20-fa99-4b81-e269-e9e6af533e5b"
      },
      "execution_count": null,
      "outputs": [
        {
          "output_type": "stream",
          "name": "stdout",
          "text": [
            "4 8 9  | 5 3 1  | 2 7 6\n",
            "7 5 2  | 6 4 9  | 1 3 8\n",
            "3 1 6  | 8 2 7  | 9 4 5\n",
            "- - - - - - - - - - - - \n",
            "8 7 3  | 9 6 2  | 5 1 4\n",
            "9 2 4  | 1 8 5  | 3 6 7\n",
            "1 6 5  | 3 7 4  | 8 2 9\n",
            "- - - - - - - - - - - - \n",
            "2 3 8  | 4 9 6  | 7 5 1\n",
            "5 4 7  | 2 1 8  | 6 9 3\n",
            "6 9 1  | 7 5 3  | 4 8 2\n"
          ]
        }
      ]
    },
    {
      "cell_type": "markdown",
      "source": [
        "## References :"
      ],
      "metadata": {
        "id": "RIv-z1jrBa3P"
      }
    },
    {
      "cell_type": "markdown",
      "source": [
        "* https://www.youtube.com/watch?v=eqUwSA0xI-s\n",
        "* https://www.youtube.com/watch?v=lK4N8E6uNr4\n"
      ],
      "metadata": {
        "id": "titBHvgHBa3Q"
      }
    }
  ]
}